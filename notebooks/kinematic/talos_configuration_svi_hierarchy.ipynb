{
 "cells": [
  {
   "cell_type": "markdown",
   "metadata": {},
   "source": [
    "# Generate humanoid configurations with stochastic variational inference \n",
    "\n",
    "Paper pdf :\n",
    "\t\n",
    "https://github.com/emmanuelpignat/tf_robot_learning/blob/master/publications/pignat_icra2020.pdf"
   ]
  },
  {
   "cell_type": "code",
   "execution_count": 1,
   "metadata": {},
   "outputs": [
    {
     "name": "stdout",
     "output_type": "stream",
     "text": [
      "Sklearn not installed, some features might not be usable\n"
     ]
    }
   ],
   "source": [
    "import tensorflow as tf\n",
    "import tensorflow.compat.v1 as tf1\n",
    "import numpy as np\n",
    "import matplotlib.pyplot as plt\n",
    "\n",
    "from collections import OrderedDict\n",
    "\n",
    "import tf_robot_learning as rl\n",
    "import tf_robot_learning.distributions as ds\n",
    "import os, time\n",
    "from tf_robot_learning import kinematic as tk\n",
    "\n",
    "from IPython.core import display\n",
    "\n",
    "%load_ext autoreload\n",
    "%autoreload 2\n",
    "%matplotlib inline"
   ]
  },
  {
   "cell_type": "code",
   "execution_count": 2,
   "metadata": {},
   "outputs": [],
   "source": [
    "sess = tf1.InteractiveSession()\n",
    "tf1.disable_eager_execution()"
   ]
  },
  {
   "cell_type": "markdown",
   "metadata": {},
   "source": [
    "### Create a robot"
   ]
  },
  {
   "cell_type": "code",
   "execution_count": 3,
   "metadata": {},
   "outputs": [],
   "source": [
    "# load URDF\n",
    "urdf = tk.urdf_from_file(rl.datapath +\n",
    "                         '/urdf/talos_reduced.urdf');\n",
    "display.clear_output()"
   ]
  },
  {
   "cell_type": "code",
   "execution_count": 4,
   "metadata": {},
   "outputs": [
    {
     "name": "stdout",
     "output_type": "stream",
     "text": [
      "WARNING:tensorflow:From /home/pignate/miniconda3/lib/python3.8/site-packages/tensorflow/python/ops/linalg/linear_operator_full_matrix.py:150: calling LinearOperator.__init__ (from tensorflow.python.ops.linalg.linear_operator) with graph_parents is deprecated and will be removed in a future version.\n",
      "Instructions for updating:\n",
      "Do not pass `graph_parents`.  They will  no longer be used.\n"
     ]
    }
   ],
   "source": [
    "# get all chain tips\n",
    "chain_names = ['r_gripper', 'l_gripper', 'r_foot', 'l_foot']  # always keep this order\n",
    "\n",
    "tips = OrderedDict({\n",
    "    'r_gripper'\t: 'gripper_right_base_link',\n",
    "    'l_gripper'\t: 'gripper_left_base_link',\n",
    "    'r_foot' \t: 'right_sole_link',\n",
    "    'l_foot' \t: 'left_sole_link',\n",
    "})\n",
    "\n",
    "# get chains of arms and leg from base\n",
    "chain = tk.ChainDict({\n",
    "    name: tk.kdl_chain_from_urdf_model(urdf, 'base_link', tip=tip)\n",
    "    for name, tip in tips.items()\n",
    "})"
   ]
  },
  {
   "cell_type": "code",
   "execution_count": 5,
   "metadata": {},
   "outputs": [],
   "source": [
    "# default pose of each chain tip position [3, ] + rotation matrix [9, ]\n",
    "ee = OrderedDict({\n",
    "        'l_gripper': [0.  , 0.29, 0.8 , 1.  , 0.  , 0.  , 0.  , 1.  , 0.  , 0.  , 0.  ,1.  ],\n",
    "        'r_gripper': [0.  , -0.29, 0.8 , 1.  , 0.  , 0.  , 0.  , 1.  , 0.  , 0.  , 0.  ,1.  ],\n",
    "        'l_foot': [-0.02,  0.09, -0.  ,  1.  ,  0.  ,  0.  ,  0.  ,  1.  ,  0.  , 0.  ,  0.  ,  1.  ],\n",
    "        'r_foot': [-0.02,  -0.09, -0.  ,  1.  ,  0.  ,  0.  ,  0.  ,  1.  ,  0.  , 0.  ,  0.  ,  1.  ],\n",
    "})"
   ]
  },
  {
   "cell_type": "markdown",
   "metadata": {},
   "source": [
    "## Create Product of Expert model "
   ]
  },
  {
   "cell_type": "markdown",
   "metadata": {},
   "source": [
    "$$p(q)\\propto \\prod_{j=0}^{J} p_j(f_j(q)\\,|\\,\\theta_j)$$\n",
    "\n",
    "A Gaussian expert acting on forward kinematic of each end-effector."
   ]
  },
  {
   "cell_type": "code",
   "execution_count": 6,
   "metadata": {},
   "outputs": [],
   "source": [
    "##################################\n",
    "# experts distribution parameters\n",
    "# create an expert for each end effector\n",
    "\n",
    "# standard deviations for position and orientation of each chain\n",
    "stds_d = { \n",
    "    'pos': {\n",
    "        'r_gripper' : tf1.placeholder(tf.float32, (3,)),\n",
    "        'l_gripper' : tf1.placeholder(tf.float32, (3,)),\n",
    "        'r_foot' : tf1.placeholder(tf.float32, (3, )),\n",
    "        'l_foot' : tf1.placeholder(tf.float32, (3, )),\n",
    "        },\n",
    "    'rot': {\n",
    "        'r_gripper' : tf1.placeholder(tf.float32, ()),\n",
    "        'l_gripper' : tf1.placeholder(tf.float32, ()),\n",
    "        'r_foot' : tf1.placeholder(tf.float32, ()),\n",
    "        'l_foot' : tf1.placeholder(tf.float32, ()),\n",
    "        }\n",
    "}\n",
    "\n",
    "# concatenation for pose (12, )\n",
    "stds = {\n",
    "    name : tf.concat([\n",
    "        stds_d['pos'][name], \n",
    "        stds_d['rot'][name] * tf.ones(9)\n",
    "        ], axis=-1)\n",
    "    for name in chain_names}\n",
    "\n",
    "# mean value \n",
    "locs = {\n",
    "    name: tf1.placeholder(tf.float32, (12,)) for name in chain_names\n",
    "}"
   ]
  },
  {
   "cell_type": "code",
   "execution_count": 7,
   "metadata": {},
   "outputs": [],
   "source": [
    "# expert for joint limits\n",
    "joint_limits = tf.constant(chain.joint_limits, dtype=tf.float32)\n",
    "joint_limits_std = 0.05\n",
    "joint_limits_temp = 1.\n",
    "\n",
    "joint_limits_exp = ds.SoftUniformNormalCdf(\n",
    "    low=joint_limits[:, 0],\n",
    "    high=joint_limits[:, 1],\n",
    "    std=joint_limits_std,\n",
    "    temp=joint_limits_temp,\n",
    "    reduce_axis=-1\n",
    ")"
   ]
  },
  {
   "cell_type": "code",
   "execution_count": 8,
   "metadata": {},
   "outputs": [],
   "source": [
    "# select if equilibrium on both feet or only one\n",
    "one_foot = [False, 'right', 'left'][0]"
   ]
  },
  {
   "cell_type": "code",
   "execution_count": 9,
   "metadata": {},
   "outputs": [],
   "source": [
    "# expert for center of mass\n",
    "com_limits = 0.14 if not one_foot else 0.05 # smaller platform if on one foot\n",
    "com_limits_std = tf1.placeholder(tf.float32, ())\n",
    "com_limits_temp = tf1.placeholder(tf.float32, ())\n",
    "\n",
    "com_limits_exp = ds.SoftUniformNormalCdf(\n",
    "    low=-com_limits,\n",
    "    high=com_limits,\n",
    "    std=com_limits_std,\n",
    "    temp=com_limits_temp,\n",
    "    reduce_axis=-1\n",
    ")"
   ]
  },
  {
   "cell_type": "code",
   "execution_count": 10,
   "metadata": {},
   "outputs": [],
   "source": [
    "# only used to display COM constraints\n",
    "com_disp_range = tf1.placeholder(tf.float32, (2, ))\n",
    "com_disp = com_limits_exp.log_prob(tf.linspace(com_disp_range[0],com_disp_range[1], 100)[:, None])"
   ]
  },
  {
   "cell_type": "code",
   "execution_count": 11,
   "metadata": {},
   "outputs": [],
   "source": [
    "# to transform parametrization of configuration to joint value (28, )and pose (3 + 3, ) of floating base\n",
    "def param_to_joint_pos(x):\n",
    "    return (x[..., :chain.nb_joint],  # 28 joint angle\n",
    "        x[...,chain.nb_joint:chain.nb_joint+3],  # 3 position of floating base\n",
    "        tk.rotation.rpy(x[..., -3:]))  # 3 orientation of floating base euler to rotation matrix "
   ]
  },
  {
   "cell_type": "markdown",
   "metadata": {},
   "source": [
    "### Define transformation for each expert  "
   ]
  },
  {
   "cell_type": "code",
   "execution_count": 12,
   "metadata": {},
   "outputs": [],
   "source": [
    "# arms\n",
    "def t0(x): # r_gripper\n",
    "    _q, _p, _m = param_to_joint_pos(x)\n",
    "    return chain.xs(_q, floating_base=(_p, _m), name='r_gripper')[:, -1] \n",
    "\n",
    "def t1(x): # l_gripper\n",
    "    _q, _p, _m = param_to_joint_pos(x)\n",
    "    return chain.xs(_q, floating_base=(_p, _m), name='l_gripper')[:, -1] \n"
   ]
  },
  {
   "cell_type": "code",
   "execution_count": 13,
   "metadata": {},
   "outputs": [],
   "source": [
    "# legs\n",
    "def t2(x): # r_foot\n",
    "    _q, _p, _m = param_to_joint_pos(x)\n",
    "    return chain.xs(_q, floating_base=(_p, _m), name='r_foot')[:, -1] \n",
    "\n",
    "def t3(x): # l_foot\n",
    "    _q, _p, _m = param_to_joint_pos(x)\n",
    "    return chain.xs(_q, floating_base=(_p, _m), name='l_foot')[:, -1] "
   ]
  },
  {
   "cell_type": "code",
   "execution_count": 14,
   "metadata": {},
   "outputs": [],
   "source": [
    "# others\n",
    "def t4(x):   # joint angles\n",
    "    return x[..., :chain.nb_joint]\n",
    "\n",
    "def t5(x): # relative position between center of feet and projection of com\n",
    "    # basic implementation, needs to be replaced with more complete differentiable formula\n",
    "    _q, _p, _m = param_to_joint_pos(x)\n",
    "    # get center of mass projection on the ground\n",
    "    com_xy = chain.xs(_q, floating_base=(_p, _m), get_links=True)[-1][:, :2]\n",
    "    \n",
    "    if not one_foot:  # in case of balancing on the two feet\n",
    "        center_feet = tf.reduce_mean([\n",
    "                chain.xs(_q, floating_base=(_p, _m), name='r_foot')[:, -1, :2], \n",
    "                chain.xs(_q, floating_base=(_p, _m), name='l_foot')[:, -1, :2]\n",
    "                ], axis=0)\n",
    "    elif one_foot == 'right':  # in case of balancing only on right foot\n",
    "        center_feet = chain.xs(_q, floating_base=(_p, _m), name='r_foot')[:, -1, :2]\n",
    "    elif one_foot == 'left':   # in case of balancing only on left foot\n",
    "        center_feet = chain.xs(_q, floating_base=(_p, _m), name='l_foot')[:, -1, :2]\n",
    "\n",
    "    return com_xy - center_feet\n",
    "    "
   ]
  },
  {
   "cell_type": "markdown",
   "metadata": {},
   "source": [
    "### Setup hierarchy \n",
    "Uncomment one of the following "
   ]
  },
  {
   "cell_type": "code",
   "execution_count": 15,
   "metadata": {},
   "outputs": [],
   "source": [
    "### NO HIERARCHY \n",
    "# transforms = [t0, t1, t2, t3, t4, t5]"
   ]
  },
  {
   "cell_type": "code",
   "execution_count": 16,
   "metadata": {},
   "outputs": [],
   "source": [
    "### left gripper in the nullspace of right gripper\n",
    "\n",
    "@tf.custom_gradient\n",
    "def t1_proj(x):\n",
    "    return rl.utils.tf.nullspace_project(t1, t0, x)\n",
    "\n",
    "transforms = [t0, t1_proj, t2, t3, t4, t5]"
   ]
  },
  {
   "cell_type": "code",
   "execution_count": 17,
   "metadata": {},
   "outputs": [],
   "source": [
    "# @tf.custom_gradient\n",
    "# def t0_proj(x):  # put r_gripper in nullspace of COM\n",
    "#     return rl.utils.tf.nullspace_project(t0, t5, x)\n",
    "\n",
    "# @tf.custom_gradient\n",
    "# def t1_proj(x): # put l_gripper in nullspace of COM and l_gripper\n",
    "#     return rl.utils.tf.nullspace_project(t1, [t0, t5], x)\n",
    "\n",
    "# transforms = [t0_proj, t1_proj, t2, t3, t4, t5]"
   ]
  },
  {
   "cell_type": "markdown",
   "metadata": {},
   "source": [
    "## Create PoE"
   ]
  },
  {
   "cell_type": "code",
   "execution_count": 18,
   "metadata": {},
   "outputs": [],
   "source": [
    "model = ds.PoE((chain.nb_joint + 6,), # 6 is for position and rotation of floating base\n",
    "    # specify p_j\n",
    "    experts=[\n",
    "        ds.MultivariateNormalDiag(locs[name], stds[name])\n",
    "        for name in chain_names\n",
    "    ] + [joint_limits_exp, com_limits_exp],\n",
    "    # specify f_j\n",
    "    transfs=transforms)"
   ]
  },
  {
   "cell_type": "markdown",
   "metadata": {},
   "source": [
    "### Variational inference with GMM approximate distribution"
   ]
  },
  {
   "cell_type": "code",
   "execution_count": 19,
   "metadata": {},
   "outputs": [
    {
     "name": "stdout",
     "output_type": "stream",
     "text": [
      "WARNING:tensorflow:From /home/pignate/miniconda3/lib/python3.8/site-packages/tensorflow_probability/python/distributions/distribution.py:334: MultivariateNormalFullCovariance.__init__ (from tensorflow_probability.python.distributions.mvn_full_covariance) is deprecated and will be removed after 2019-12-01.\n",
      "Instructions for updating:\n",
      "`MultivariateNormalFullCovariance` is deprecated, use `MultivariateNormalTriL(loc=loc, scale_tril=tf.linalg.cholesky(covariance_matrix))` instead.\n"
     ]
    }
   ],
   "source": [
    "loc_q = tf.constant(chain.mean_pose + [0., 0., 1.08, 0., 0., 0.]) # mean value to initialize mixture components\n",
    "std_q = tf.constant([0.3] * chain.nb_joint + [0.02, 0.02, 0.1, 0.1, 0.1, 0.1])\n",
    "\n",
    "q = ds.approx.VariationalGMM(\n",
    "        model._log_unnormalized_prob, # \\tilde{p}\n",
    "        ndim=chain.nb_joint + 6, loc=loc_q, std=std_q, temp=1., \n",
    "        cov_type='full', k=100, samples=10) \n",
    "\n",
    "# samples of q for display\n",
    "n_samples = tf1.placeholder(tf.int32, ())\n",
    "samples = q.gmm.sample(n_samples)"
   ]
  },
  {
   "cell_type": "code",
   "execution_count": 20,
   "metadata": {},
   "outputs": [],
   "source": [
    "_, samples_position, samples_rotation = param_to_joint_pos(samples)"
   ]
  },
  {
   "cell_type": "code",
   "execution_count": 21,
   "metadata": {},
   "outputs": [],
   "source": [
    "links, _, coms = chain.xs(samples, floating_base=(samples_position, samples_rotation), get_links=True)"
   ]
  },
  {
   "cell_type": "markdown",
   "metadata": {},
   "source": [
    "### Create SGD optimizer "
   ]
  },
  {
   "cell_type": "code",
   "execution_count": 22,
   "metadata": {},
   "outputs": [],
   "source": [
    "rate = tf1.placeholder(tf.float32, ())\n",
    "optimizer = tf1.train.AdamOptimizer(rate)\n",
    "\n",
    "cost = q.cost\n",
    "cost_cst_prior = q.cost_cst_prior"
   ]
  },
  {
   "cell_type": "code",
   "execution_count": 23,
   "metadata": {},
   "outputs": [],
   "source": [
    "# train with optiminzation of GMM weights\n",
    "train = optimizer.minimize(\n",
    "    cost, var_list=q.opt_params)\n",
    "\n",
    "# train without optimizing GMM weights\n",
    "train_wo_prior = optimizer.minimize(\n",
    "    cost_cst_prior, var_list=q.opt_params_wo_prior)"
   ]
  },
  {
   "cell_type": "code",
   "execution_count": 24,
   "metadata": {},
   "outputs": [],
   "source": [
    "init = tf1.global_variables_initializer()"
   ]
  },
  {
   "cell_type": "markdown",
   "metadata": {},
   "source": [
    "## Different scenarios to test"
   ]
  },
  {
   "cell_type": "code",
   "execution_count": 25,
   "metadata": {},
   "outputs": [],
   "source": [
    "feed_dict = {}\n",
    "\n",
    "for name in chain_names:\n",
    "    feed_dict[locs[name]] = ee[name]\n",
    "\n",
    "v = 0\n",
    "\n",
    "scenario = 1\n",
    "\n",
    "if not one_foot:\n",
    "    if scenario == 0:\n",
    "        # two feet constraints, free arms\n",
    "        for name in chain_names:\n",
    "            feed_dict[stds_d['pos'][name]] = [0.5] * 3 if 'gripper' in name else [0.02, 0.02, 0.02]\n",
    "            feed_dict[stds_d['rot'][name]] = 1. if 'gripper' in name else 0.1\n",
    "            \n",
    "    elif scenario == 1:\n",
    "        # two feet constraints, arms constraints in position but too far\n",
    "        for name in chain_names:\n",
    "            feed_dict[stds_d['pos'][name]] = [0.02] * 3 if 'gripper' in name else [0.02, 0.02, 0.02]\n",
    "            feed_dict[stds_d['rot'][name]] = 1. if 'gripper' in name else 0.1\n",
    "            \n",
    "        # exagerate y position of both arm (not reachable anymore)\n",
    "        feed_dict[locs['r_gripper']][1] = -1.2\n",
    "        feed_dict[locs['l_gripper']][1] = 1.2\n",
    "    \n",
    "        \n",
    "elif one_foot == 'right':\n",
    "    for name in chain_names:\n",
    "        if name[0] == 'r':\n",
    "            feed_dict[stds_d['pos'][name]] = [0.5] * 3 if 'gripper' in name else [0.2, 0.2, 0.02]\n",
    "            feed_dict[stds_d['rot'][name]] = 1. if 'gripper' in name else 0.1\n",
    "        else:\n",
    "            feed_dict[stds_d['pos'][name]] = [0.5] * 3 if 'gripper' in name else [0.5, 0.5, 0.5]\n",
    "            feed_dict[stds_d['rot'][name]] = 1. if 'gripper' in name else 1.\n",
    "\n",
    "elif one_foot == 'left':\n",
    "    for name in chain_names:\n",
    "        if name[0] == 'l':\n",
    "            feed_dict[stds_d['pos'][name]] = [0.5] * 3 if 'gripper' in name else [0.2, 0.2, 0.02]\n",
    "            feed_dict[stds_d['rot'][name]] = 1. if 'gripper' in name else 0.1\n",
    "        else:\n",
    "            feed_dict[stds_d['pos'][name]] = [0.5] * 3 if 'gripper' in name else [0.5, 0.5, 0.5]\n",
    "            feed_dict[stds_d['rot'][name]] = 1. if 'gripper' in name else 1."
   ]
  },
  {
   "cell_type": "code",
   "execution_count": 28,
   "metadata": {},
   "outputs": [],
   "source": [
    "feed_dict[com_limits_std] = 0.01  # std deviation of com limit as a cumulative normal distribution\n",
    "# you can play with these parameters below to see what is happening\n",
    "# if com_limits_std is very small, the cost acts like an inequality but the gradients are not nice\n",
    "\n",
    "feed_dict[com_limits_temp] = 1.  # weight of com experts "
   ]
  },
  {
   "cell_type": "markdown",
   "metadata": {},
   "source": [
    "### Run optimization "
   ]
  },
  {
   "cell_type": "code",
   "execution_count": 29,
   "metadata": {},
   "outputs": [],
   "source": [
    "sess.run(init) # only launch once or for reinitializing everything"
   ]
  },
  {
   "cell_type": "code",
   "execution_count": 30,
   "metadata": {},
   "outputs": [],
   "source": [
    "## CTRL-I to stop, you can stop after 1 minutes just to see and restart without running the init\n",
    "\n",
    "# if a hierachy is set, the optimization is slower due to the computation of jacobians\n",
    "# also, the cost will not decrease necessarely. The cost function has the same gradient than \n",
    "# the objective that we try to minimize but not the same value. The optimization only evaluates\n",
    "# the gradeitn \n",
    "\n",
    "train_priors = 0\n",
    "# if 0:  will not optimize weights of GMM, use at the beginning to make sure that all the components goes to \n",
    "# some probability zones. If not, the components far will have weights decreasing very fast and will not be \n",
    "# used anymore. Once having optimized with train_priors = 0 for some time, improve the solution by optimizing \n",
    "# the weights.\n",
    "\n",
    "for i in range(3000):\n",
    "    try:\n",
    "        display.clear_output(wait=True)\n",
    "\n",
    "        feed_dict[rate] = 0.005\n",
    "            \n",
    "        if train_priors:\n",
    "            _, _cost = sess.run([train, cost], feed_dict)\n",
    "        else:\n",
    "            _, _cost = sess.run([train_wo_prior, cost_cst_prior], feed_dict)\n",
    "            \n",
    "        print(_cost)\n",
    "    except KeyboardInterrupt:\n",
    "        break\n",
    "        \n",
    "display.clear_output(wait=True)"
   ]
  },
  {
   "cell_type": "markdown",
   "metadata": {},
   "source": [
    "### Displaying configurations "
   ]
  },
  {
   "cell_type": "code",
   "execution_count": 32,
   "metadata": {},
   "outputs": [
    {
     "data": {
      "image/png": "[encoded data removed]",
      "text/plain": [
       "<Figure size 1080x720 with 2 Axes>"
      ]
     },
     "metadata": {
      "needs_background": "light"
     },
     "output_type": "display_data"
    }
   ],
   "source": [
    "_links, _coms = sess.run(\n",
    "    [links, coms], feed_dict={n_samples: 50})\n",
    "\n",
    "fig, ax = plt.subplots(ncols=2, sharex=True, figsize=(15, 10))\n",
    "\n",
    "for i in range(2):\n",
    "    dim = [i, 2]\n",
    "    chain.plot(\n",
    "            _links, feed_dict={}, ax=ax[i],\n",
    "            dim=dim, alpha=0.2, color='k'\n",
    "        )    \n",
    "    ax[i].plot(_coms[:, dim[0]], _coms[:, dim[1]], 'yx')\n",
    "    \n",
    "#     for j, name in enumerate(chain_names):\n",
    "#         # print ee[name]\n",
    "#         ax[i].plot(_ys_loc[j][0, dim[0]], _ys_loc[j][0, dim[1]], 'rs', color='orangered')\n",
    "\n",
    "    for name in chain_names:\n",
    "        ax[i].plot(feed_dict[locs[name]][dim[0]], feed_dict[locs[name]][dim[1]], ls=' ', marker='s', label=name)\n",
    "        \n",
    "    ax[i].legend()"
   ]
  },
  {
   "cell_type": "markdown",
   "metadata": {},
   "source": [
    "### COM cost test"
   ]
  },
  {
   "cell_type": "code",
   "execution_count": 44,
   "metadata": {},
   "outputs": [],
   "source": [
    "feed_dict[com_limits_std] = 0.01 # try to change this parameters with 0.001, 0.05, \n",
    "feed_dict[com_limits_temp] = 0.1"
   ]
  },
  {
   "cell_type": "code",
   "execution_count": 46,
   "metadata": {},
   "outputs": [
    {
     "data": {
      "text/plain": [
       "[<matplotlib.lines.Line2D at 0x7f4911444e20>]"
      ]
     },
     "execution_count": 46,
     "metadata": {},
     "output_type": "execute_result"
    },
    {
     "data": {
      "image/png": "[encoded data removed]",
      "text/plain": [
       "<Figure size 432x288 with 1 Axes>"
      ]
     },
     "metadata": {
      "needs_background": "light"
     },
     "output_type": "display_data"
    }
   ],
   "source": [
    "plt.plot(_coms[:, 1],\n",
    "        np.zeros_like(_coms[:, 1]),\n",
    "         marker='x', ls='', alpha=0.2)\n",
    "\n",
    "feed_dict[com_disp_range] = [-0.5, 0.5]\n",
    "plt.plot(np.linspace(feed_dict[com_disp_range][0], feed_dict[com_disp_range][1], 100), \n",
    "         np.exp(com_disp.eval(feed_dict)))"
   ]
  },
  {
   "cell_type": "markdown",
   "metadata": {},
   "source": [
    "### Saving samples"
   ]
  },
  {
   "cell_type": "code",
   "execution_count": 34,
   "metadata": {
    "collapsed": true
   },
   "outputs": [],
   "source": [
    "_samples = sess.run(samples, {n_samples: 20000}) "
   ]
  },
  {
   "cell_type": "code",
   "execution_count": 35,
   "metadata": {},
   "outputs": [],
   "source": [
    "if not one_foot:\n",
    "    np.save('data/talos_two_feet', _samples)\n",
    "else:\n",
    "    np.save('data/talos_one_foot_%s' % one_foot, _samples)\n"
   ]
  }
 ],
 "metadata": {
  "anaconda-cloud": {},
  "hide_input": false,
  "kernelspec": {
   "display_name": "Python 3",
   "language": "python",
   "name": "python3"
  },
  "language_info": {
   "codemirror_mode": {
    "name": "ipython",
    "version": 3
   },
   "file_extension": ".py",
   "mimetype": "text/x-python",
   "name": "python",
   "nbconvert_exporter": "python",
   "pygments_lexer": "ipython3",
   "version": "3.8.5"
  },
  "latex_envs": {
   "bibliofile": "biblio.bib",
   "cite_by": "apalike",
   "current_citInitial": 1.0,
   "eqLabelWithNumbers": true,
   "eqNumInitial": 0.0
  }
 },
 "nbformat": 4,
 "nbformat_minor": 2
}
